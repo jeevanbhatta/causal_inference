{
 "cells": [
  {
   "cell_type": "markdown",
   "id": "1379f9a6",
   "metadata": {},
   "source": [
    "# Propensity Score Weighting (IPTW) for Ordinal Outcomes\n",
    "\n",
    "## Overview\n",
    "This notebook implements **stabilized inverse probability of treatment weighting (IPTW)** to estimate causal treatment effects while preserving sample size.\n",
    "\n",
    "**Key points:**\n",
    "- **Treatment:** Binarized `Duration_days` (≤ median → low duration, > median → high duration)\n",
    "- **Method:** Propensity score weighting with stabilized weights to avoid extreme values\n",
    "- **Outcome:** Ordinal success variable (numeric: 0-3)\n",
    "- **Estimation:** Weighted linear regression (WLS) for ATE and ATT\n",
    "- **Advantage:** Preserves full sample size (no matching, no sample loss)\n",
    "\n",
    "The notebook preferentially uses in-kernel variables from the main analysis notebook when available."
   ]
  },
  {
   "cell_type": "code",
   "execution_count": 11,
   "id": "49b2942a",
   "metadata": {},
   "outputs": [],
   "source": [
    "import warnings\n",
    "warnings.filterwarnings('ignore')\n",
    "import numpy as np\n",
    "import pandas as pd\n",
    "import matplotlib.pyplot as plt\n",
    "import seaborn as sns\n",
    "import statsmodels.api as sm\n",
    "from sklearn.linear_model import LogisticRegression\n",
    "from sklearn.preprocessing import StandardScaler\n",
    "\n",
    "sns.set_style('whitegrid')\n",
    "plt.rcParams['figure.figsize'] = (12, 6)"
   ]
  },
  {
   "cell_type": "markdown",
   "id": "5b3e28a1",
   "metadata": {},
   "source": [
    "## Load and Prepare Data"
   ]
  },
  {
   "cell_type": "code",
   "execution_count": 14,
   "id": "caa43d81",
   "metadata": {},
   "outputs": [
    {
     "name": "stdout",
     "output_type": "stream",
     "text": [
      "Data loaded from: processed CSV\n",
      "Initial shape: (329, 27)\n",
      "Columns available: ['Country', 'Protest Name', 'Start Date', 'Freedom Rating (Status)', 'Triggers', 'Motivations', 'Peak Size', 'Key Participants', 'Duration', 'Outcomes', 'Active protests', 'Economic motivation?', 'Political motivation?', 'Corruption motivation?', 'Size category', 'Protests with a significant outcome', 'Large protests (Over 100,000 protesting)', 'Violent government response', 'Long protests (more than 3 months)', 'Coronavirus-related protests', 'Capital city', 'outcome_label', 'Duration_days', 'Peak_Size', 'Triggers_category', 'Motivations_category', 'Key_Participants_category']\n",
      "After removing missing: (329, 28)\n"
     ]
    }
   ],
   "source": [
    "# Prepare data: prefer main notebook objects\n",
    "if 'regression_df_clean' in globals():\n",
    "    df = regression_df_clean.copy()\n",
    "    source = 'notebook regression_df_clean'\n",
    "elif 'X_ord_clean' in globals() and 'y_ord_numeric' in globals():\n",
    "    Xtmp = X_ord_clean.copy()\n",
    "    df = Xtmp.copy()\n",
    "    df['outcome'] = y_ord_numeric.values\n",
    "    source = 'notebook X_ord_clean + y_ord_numeric'\n",
    "else:\n",
    "    df = pd.read_csv('../data/processed/GlobalProtestTracker_with_outcomes.csv')\n",
    "    source = 'processed CSV'\n",
    "\n",
    "print(f'Data loaded from: {source}')\n",
    "print(f'Initial shape: {df.shape}')\n",
    "print(f'Columns available: {list(df.columns)}')\n",
    "\n",
    "# Ensure necessary columns exist or attempt to create them\n",
    "if 'Duration_days' not in df.columns and 'Duration' in df.columns:\n",
    "    try:\n",
    "        df['Duration_days'] = pd.to_numeric(df['Duration'], errors='coerce')\n",
    "    except Exception:\n",
    "        pass\n",
    "\n",
    "# Create outcome column if it doesn't exist (map from outcome_label)\n",
    "if 'outcome' not in df.columns and 'outcome_label' in df.columns:\n",
    "    # Map outcome_label to numeric\n",
    "    outcome_map = {\n",
    "        'No significant change': 0,\n",
    "        'partial political change': 1,\n",
    "        'Policy changed to meet demands (fully changed/reversed)': 2,\n",
    "        'regime shift': 3\n",
    "    }\n",
    "    df['outcome'] = df['outcome_label'].map(outcome_map)\n",
    "\n",
    "# Drop rows missing core vars\n",
    "df = df.dropna(subset=['Duration_days', 'outcome'])\n",
    "print(f'After removing missing: {df.shape}')"
   ]
  },
  {
   "cell_type": "markdown",
   "id": "3eb9f66c",
   "metadata": {},
   "source": [
    "## Create Binary Treatment Variable"
   ]
  },
  {
   "cell_type": "code",
   "execution_count": null,
   "id": "100218c1",
   "metadata": {},
   "outputs": [
    {
     "name": "stdout",
     "output_type": "stream",
     "text": [
      "Duration median: 30.0 days\n",
      "Treatment distribution:\n",
      "treatment_high\n",
      "0    190\n",
      "1    139\n",
      "Name: count, dtype: int64\n",
      "Proportion treated (high duration): 0.422\n"
     ]
    }
   ],
   "source": [
    "# Create binary treatment: high duration > median\n",
    "duration_median = df['Duration_days'].median()\n",
    "df['treatment_high'] = (df['Duration_days'] > duration_median).astype(int)\n",
    "\n",
    "print(f'Duration median: {duration_median:.1f} days')\n",
    "print(f'Treatment distribution:')\n",
    "print(df['treatment_high'].value_counts())\n",
    "print(f'Proportion treated (high duration): {df[\"treatment_high\"].mean():.3f}')"
   ]
  },
  {
   "cell_type": "markdown",
   "id": "7b7da276",
   "metadata": {},
   "source": [
    "## Select and Encode Confounders"
   ]
  },
  {
   "cell_type": "code",
   "execution_count": null,
   "id": "53c2dadf",
   "metadata": {},
   "outputs": [
    {
     "name": "stdout",
     "output_type": "stream",
     "text": [
      "Selected confounders: ['Peak_Size', 'Triggers_category', 'Motivations_category', 'Key_Participants_category']\n",
      "Design matrix shape (after encoding): (329, 22)\n"
     ]
    }
   ],
   "source": [
    "# Select confounders similar to previous analysis\n",
    "candidate_covs = ['Peak_Size','Triggers_category','Motivations_category','Key_Participants_category']\n",
    "covs = [c for c in candidate_covs if c in df.columns]\n",
    "\n",
    "if len(covs) == 0:\n",
    "    # fallback: use any numeric columns except outcome and duration\n",
    "    covs = [c for c in df.select_dtypes(include=[np.number]).columns if c not in ['Duration_days','outcome','treatment_high']]\n",
    "\n",
    "print(f'Selected confounders: {covs}')\n",
    "\n",
    "# One-hot encode categorical covariates and fillna\n",
    "X = pd.get_dummies(df[covs], drop_first=True).astype(float).fillna(0) if len(covs)>0 else pd.DataFrame(index=df.index)\n",
    "print(f'Design matrix shape (after encoding): {X.shape}')"
   ]
  },
  {
   "cell_type": "markdown",
   "id": "3f1cc2af",
   "metadata": {},
   "source": [
    "## Fit Propensity Score Model"
   ]
  },
  {
   "cell_type": "code",
   "execution_count": null,
   "id": "abe467a0",
   "metadata": {},
   "outputs": [
    {
     "name": "stdout",
     "output_type": "stream",
     "text": [
      "Propensity score summary:\n",
      "  Mean: 0.423\n",
      "  Std: 0.143\n",
      "  Min: 0.171\n",
      "  Max: 0.995\n",
      "\n",
      "Treatment assignment probabilities:\n",
      "  Treated (mean PS): 0.478\n",
      "  Control (mean PS): 0.382\n"
     ]
    }
   ],
   "source": [
    "# Fit propensity model: logit of treatment ~ confounders\n",
    "ps_model = LogisticRegression(solver='lbfgs', max_iter=1000, random_state=42)\n",
    "ps_model.fit(X, df['treatment_high'])\n",
    "ps = ps_model.predict_proba(X)[:,1]\n",
    "df['propensity_score'] = ps\n",
    "\n",
    "print(f'Propensity score summary:')\n",
    "print(f'  Mean: {ps.mean():.3f}')\n",
    "print(f'  Std: {ps.std():.3f}')\n",
    "print(f'  Min: {ps.min():.3f}')\n",
    "print(f'  Max: {ps.max():.3f}')\n",
    "print(f'\\nTreatment assignment probabilities:')\n",
    "print(f'  Treated (mean PS): {ps[df[\"treatment_high\"]==1].mean():.3f}')\n",
    "print(f'  Control (mean PS): {ps[df[\"treatment_high\"]==0].mean():.3f}')"
   ]
  },
  {
   "cell_type": "markdown",
   "id": "8c2237ed",
   "metadata": {},
   "source": [
    "## Calculate Stabilized IPTW Weights"
   ]
  },
  {
   "cell_type": "code",
   "execution_count": null,
   "id": "d0c97533",
   "metadata": {},
   "outputs": [
    {
     "name": "stdout",
     "output_type": "stream",
     "text": [
      "Weight summary (ATE):\n",
      "  Mean: 0.994\n",
      "  Median: 0.920\n",
      "  Min: 0.424\n",
      "  Max: 10.000\n",
      "  Trimmed (>=10): 1 observations\n",
      "\n",
      "Weight summary (ATT):\n",
      "  Mean: 0.969\n",
      "  Median: 1.000\n",
      "  Min: 0.282\n",
      "  Max: 10.000\n"
     ]
    }
   ],
   "source": [
    "# Stabilized IPTW weights for ATE\n",
    "# w_ATE = (t / e) * P(T=1) + ((1-t)/(1-e)) * P(T=0)\n",
    "p_t = df['treatment_high'].mean()\n",
    "df['weight_ate'] = df['treatment_high'] * (p_t / df['propensity_score']) + (1 - df['treatment_high']) * ((1 - p_t) / (1 - df['propensity_score']))\n",
    "\n",
    "# Trim extreme weights for stability: cap at 10\n",
    "df['weight_ate'] = np.minimum(df['weight_ate'], 10)\n",
    "\n",
    "# ATT weights: w_ATT = 1 if treated, (e/(1-e)) * ((1-p_t)/p_t) if control\n",
    "df['weight_att'] = df['treatment_high'] + (1 - df['treatment_high']) * (df['propensity_score'] / (1 - df['propensity_score'])) * ((1 - p_t) / p_t)\n",
    "df['weight_att'] = np.minimum(df['weight_att'], 10)\n",
    "\n",
    "print('Weight summary (ATE):')\n",
    "print(f'  Mean: {df[\"weight_ate\"].mean():.3f}')\n",
    "print(f'  Median: {df[\"weight_ate\"].median():.3f}')\n",
    "print(f'  Min: {df[\"weight_ate\"].min():.3f}')\n",
    "print(f'  Max: {df[\"weight_ate\"].max():.3f}')\n",
    "print(f'  Trimmed (>=10): {(df[\"weight_ate\"]>=10).sum()} observations')\n",
    "\n",
    "print('\\nWeight summary (ATT):')\n",
    "print(f'  Mean: {df[\"weight_att\"].mean():.3f}')\n",
    "print(f'  Median: {df[\"weight_att\"].median():.3f}')\n",
    "print(f'  Min: {df[\"weight_att\"].min():.3f}')\n",
    "print(f'  Max: {df[\"weight_att\"].max():.3f}')"
   ]
  },
  {
   "cell_type": "markdown",
   "id": "378ca933",
   "metadata": {},
   "source": [
    "## Prepare Outcome Variable"
   ]
  },
  {
   "cell_type": "code",
   "execution_count": null,
   "id": "63af9ee1",
   "metadata": {},
   "outputs": [
    {
     "name": "stdout",
     "output_type": "stream",
     "text": [
      "Outcome variable (Y) shape: (329,)\n",
      "Outcome unique values: [0 1 2 3]\n",
      "Outcome distribution:\n",
      "0    276\n",
      "1     22\n",
      "2     17\n",
      "3     14\n",
      "Name: count, dtype: int64\n"
     ]
    }
   ],
   "source": [
    "# Outcome variable: if 'outcome' is numeric use it; otherwise try outcome_label or y_ord_numeric\n",
    "if 'outcome' in df.columns and pd.api.types.is_numeric_dtype(df['outcome']):\n",
    "    Y = df['outcome'].values\n",
    "elif 'y_ord_numeric' in globals():\n",
    "    Y = y_ord_numeric.values\n",
    "elif 'outcome_label' in df.columns:\n",
    "    if 'outcome_order_list' in globals():\n",
    "        cat_order = outcome_order_list\n",
    "        y_cat = pd.Categorical(df['outcome_label'], categories=cat_order, ordered=True)\n",
    "        Y = y_cat.codes\n",
    "    else:\n",
    "        Y = pd.Categorical(df['outcome_label'], ordered=True).codes\n",
    "else:\n",
    "    raise ValueError('No usable outcome variable found in data or kernel.')\n",
    "\n",
    "print(f'Outcome variable (Y) shape: {Y.shape if hasattr(Y, \"shape\") else len(Y)}')\n",
    "print(f'Outcome unique values: {np.unique(Y)}')\n",
    "print(f'Outcome distribution:\\n{pd.Series(Y).value_counts().sort_index()}')"
   ]
  },
  {
   "cell_type": "markdown",
   "id": "d1749c74",
   "metadata": {},
   "source": [
    "## Estimate Treatment Effects with Weighted Regression"
   ]
  },
  {
   "cell_type": "code",
   "execution_count": null,
   "id": "586cbf4b",
   "metadata": {},
   "outputs": [
    {
     "ename": "AttributeError",
     "evalue": "'numpy.ndarray' object has no attribute 'iloc'",
     "output_type": "error",
     "traceback": [
      "\u001b[31m---------------------------------------------------------------------------\u001b[39m",
      "\u001b[31mAttributeError\u001b[39m                            Traceback (most recent call last)",
      "\u001b[36mCell\u001b[39m\u001b[36m \u001b[39m\u001b[32mIn[8]\u001b[39m\u001b[32m, line 28\u001b[39m\n\u001b[32m     26\u001b[39m ate_coef = wls_res.params[\u001b[32m1\u001b[39m]\n\u001b[32m     27\u001b[39m ate_se = wls_res.bse[\u001b[32m1\u001b[39m]\n\u001b[32m---> \u001b[39m\u001b[32m28\u001b[39m ate_ci = \u001b[43mwls_res\u001b[49m\u001b[43m.\u001b[49m\u001b[43mconf_int\u001b[49m\u001b[43m(\u001b[49m\u001b[43malpha\u001b[49m\u001b[43m=\u001b[49m\u001b[32;43m0.05\u001b[39;49m\u001b[43m)\u001b[49m\u001b[43m.\u001b[49m\u001b[43miloc\u001b[49m[\u001b[32m1\u001b[39m]\n\u001b[32m     30\u001b[39m att_coef = wls_res_att.params[\u001b[32m1\u001b[39m]\n\u001b[32m     31\u001b[39m att_se = wls_res_att.bse[\u001b[32m1\u001b[39m]\n",
      "\u001b[31mAttributeError\u001b[39m: 'numpy.ndarray' object has no attribute 'iloc'"
     ]
    }
   ],
   "source": [
    "# Weighted least squares regression for ATE: outcome ~ treatment (with constant)\n",
    "df_w = df.dropna(subset=['weight_ate']).copy()\n",
    "Y_w = Y[df_w.index] if isinstance(Y, pd.Series) else pd.Series(Y, index=df.index).loc[df_w.index]\n",
    "\n",
    "# Convert to numpy for WLS\n",
    "X_wls = sm.add_constant(df_w['treatment_high'].values)\n",
    "y_wls = Y_w.values if isinstance(Y_w, pd.Series) else Y_w\n",
    "w_ate = df_w['weight_ate'].values\n",
    "\n",
    "wls_mod = sm.WLS(y_wls, X_wls, weights=w_ate)\n",
    "wls_res = wls_mod.fit()\n",
    "\n",
    "# Weighted regression for ATT\n",
    "w_att = df_w['weight_att'].values\n",
    "wls_mod_att = sm.WLS(y_wls, X_wls, weights=w_att)\n",
    "wls_res_att = wls_mod_att.fit()\n",
    "\n",
    "# Simple weighted difference-in-means (ATE) as robustness check\n",
    "treat_mask = df_w['treatment_high'].values == 1\n",
    "ctrl_mask = df_w['treatment_high'].values == 0\n",
    "mean_treated = np.average(y_wls[treat_mask], weights=w_ate[treat_mask])\n",
    "mean_control = np.average(y_wls[ctrl_mask], weights=w_ate[ctrl_mask])\n",
    "ate_w = mean_treated - mean_control\n",
    "\n",
    "# Extract key results\n",
    "ate_coef = wls_res.params[1]\n",
    "ate_se = wls_res.bse[1]\n",
    "ate_ci_array = wls_res.conf_int(alpha=0.05)\n",
    "ate_ci = ate_ci_array[1]  # Get second row (treatment coefficient CI)\n",
    "\n",
    "att_coef = wls_res_att.params[1]\n",
    "att_se = wls_res_att.bse[1]\n",
    "att_ci_array = wls_res_att.conf_int(alpha=0.05)\n",
    "att_ci = att_ci_array[1]  # Get second row (treatment coefficient CI)\n",
    "\n",
    "print('\\n=== ATE (Average Treatment Effect) ===')\n",
    "print(f'Coefficient: {ate_coef:.4f}')\n",
    "print(f'Std Error: {ate_se:.4f}')\n",
    "print(f'95% CI: [{ate_ci[0]:.4f}, {ate_ci[1]:.4f}]')\n",
    "print(f'Weighted difference-in-means: {ate_w:.4f}')\n",
    "print(f'\\nATE WLS Model Summary:')\n",
    "print(wls_res.summary().tables[1])\n",
    "\n",
    "print('\\n=== ATT (Average Treatment Effect on Treated) ===')\n",
    "print(f'Coefficient: {att_coef:.4f}')\n",
    "print(f'Std Error: {att_se:.4f}')\n",
    "print(f'95% CI: [{att_ci[0]:.4f}, {att_ci[1]:.4f}]')\n",
    "print(f'\\nATT WLS Model Summary:')\n",
    "print(wls_res_att.summary().tables[1])"
   ]
  },
  {
   "cell_type": "markdown",
   "id": "fde4ed5c",
   "metadata": {},
   "source": [
    "## Calculate Balance Diagnostics"
   ]
  },
  {
   "cell_type": "code",
   "execution_count": null,
   "id": "b8be80e1",
   "metadata": {},
   "outputs": [
    {
     "name": "stdout",
     "output_type": "stream",
     "text": [
      "Balance Assessment (Standardized Mean Differences):\n",
      "                                                       feature  smd_before  smd_after  improvement\n",
      "                                                     Peak_Size    0.430193  -0.101921     0.532114\n",
      "           Motivations_category_Economic inequality/livelihood    0.347107   0.065226     0.281880\n",
      "                                    Motivations_category_Other   -0.162070   0.019471    -0.181541\n",
      "          Key_Participants_category_Professional organizations    0.141687   0.090383     0.051304\n",
      "               Motivations_category_Security/violence concerns   -0.125130  -0.017517    -0.107613\n",
      "                     Triggers_category_Infrastructure/disaster   -0.102598  -0.332529     0.229932\n",
      "              Motivations_category_Political freedom/democracy   -0.088763   0.006159    -0.094922\n",
      "               Key_Participants_category_Women/feminist groups   -0.084293  -0.034630    -0.049663\n",
      "                Triggers_category_Government policy/law change   -0.076795   0.009766    -0.086561\n",
      "                      Triggers_category_Economic crisis/prices    0.061990   0.000678     0.061312\n",
      "                  Triggers_category_Security/conflict incident   -0.061986  -0.052700    -0.009285\n",
      "      Key_Participants_category_Opposition parties/politicians   -0.054837  -0.011628    -0.043209\n",
      "                   Motivations_category_Environmental concerns   -0.050374  -0.217202     0.166828\n",
      "               Key_Participants_category_Mixed/multiple groups    0.049684   0.006425     0.043260\n",
      "           Motivations_category_Social services/infrastructure   -0.030866  -0.008334    -0.022532\n",
      "                                       Triggers_category_Other   -0.028906   0.028779    -0.057685\n",
      "                     Triggers_category_Death/violence incident    0.025850   0.019897     0.005953\n",
      "Motivations_category_Identity/rights (ethnic/religious/gender)   -0.023460   0.009466    -0.032926\n",
      "                Key_Participants_category_Labor/unions/workers   -0.011065  -0.007949    -0.003116\n",
      "                  Triggers_category_Election/political process   -0.011065   0.005328    -0.016393\n",
      "                      Key_Participants_category_Students/youth   -0.010248   0.008688    -0.018936\n",
      "                      Key_Participants_category_General public   -0.006877  -0.014395     0.007518\n",
      "\n",
      "Target: |SMD| < 0.1 after weighting\n",
      "Covariates achieving balance: 19 / 22\n"
     ]
    }
   ],
   "source": [
    "# Standardized mean difference (SMD) function\n",
    "def smd(x_t, x_c, w_t=None, w_c=None):\n",
    "    \"\"\"\n",
    "    Compute standardized mean difference: (mean_t - mean_c) / pooled_sd\n",
    "    If weights provided, compute weighted means/sds\n",
    "    \"\"\"\n",
    "    if w_t is None:\n",
    "        mt = np.mean(x_t)\n",
    "    else:\n",
    "        mt = np.average(x_t, weights=w_t)\n",
    "    \n",
    "    if w_c is None:\n",
    "        mc = np.mean(x_c)\n",
    "    else:\n",
    "        mc = np.average(x_c, weights=w_c)\n",
    "    \n",
    "    if w_t is None:\n",
    "        sd_t = np.std(x_t, ddof=1)\n",
    "    else:\n",
    "        sd_t = np.sqrt(np.average((x_t - mt)**2, weights=w_t))\n",
    "    \n",
    "    if w_c is None:\n",
    "        sd_c = np.std(x_c, ddof=1)\n",
    "    else:\n",
    "        sd_c = np.sqrt(np.average((x_c - mc)**2, weights=w_c))\n",
    "    \n",
    "    pooled = np.sqrt((sd_t**2 + sd_c**2) / 2)\n",
    "    return (mt - mc) / (pooled if pooled > 0 else np.nan)\n",
    "\n",
    "# Compute SMD for each covariate before and after weighting\n",
    "balance_report = []\n",
    "for col in X.columns:\n",
    "    x = X[col].values\n",
    "    t_mask = df['treatment_high'].values == 1\n",
    "    c_mask = df['treatment_high'].values == 0\n",
    "    \n",
    "    x_t = x[t_mask]\n",
    "    x_c = x[c_mask]\n",
    "    \n",
    "    # Get corresponding weights (align by treatment group)\n",
    "    w_t = df.loc[df['treatment_high']==1, 'weight_ate'].values\n",
    "    w_c = df.loc[df['treatment_high']==0, 'weight_ate'].values\n",
    "    \n",
    "    smd_before = smd(x_t, x_c)\n",
    "    smd_after = smd(x_t, x_c, w_t=w_t, w_c=w_c)\n",
    "    balance_report.append({\n",
    "        'feature': col,\n",
    "        'smd_before': smd_before,\n",
    "        'smd_after': smd_after,\n",
    "        'improvement': smd_before - smd_after\n",
    "    })\n",
    "\n",
    "balance_df = pd.DataFrame(balance_report).sort_values('smd_before', key=abs, ascending=False)\n",
    "\n",
    "print('Balance Assessment (Standardized Mean Differences):')\n",
    "print(balance_df.to_string(index=False))\n",
    "print(f'\\nTarget: |SMD| < 0.1 after weighting')\n",
    "print(f'Covariates achieving balance: {(np.abs(balance_df[\"smd_after\"]) < 0.1).sum()} / {len(balance_df)}')"
   ]
  },
  {
   "cell_type": "markdown",
   "id": "a7936a7f",
   "metadata": {},
   "source": [
    "## Visualize Weight Distribution and Balance"
   ]
  },
  {
   "cell_type": "code",
   "execution_count": null,
   "id": "8162d819",
   "metadata": {},
   "outputs": [
    {
     "data": {
      "image/png": "[encoded data removed]",
      "text/plain": [
       "<Figure size 1400x500 with 2 Axes>"
      ]
     },
     "metadata": {},
     "output_type": "display_data"
    },
    {
     "name": "stdout",
     "output_type": "stream",
     "text": [
      "Saved: outputs/ps_weights_distribution.png\n"
     ]
    }
   ],
   "source": [
    "# Plot 1: Weight distribution\n",
    "fig, axes = plt.subplots(1, 2, figsize=(14, 5))\n",
    "\n",
    "axes[0].hist(df['weight_ate'], bins=30, color='steelblue', edgecolor='black', alpha=0.7)\n",
    "axes[0].axvline(df['weight_ate'].mean(), color='red', linestyle='--', linewidth=2, label=f'Mean: {df[\"weight_ate\"].mean():.2f}')\n",
    "axes[0].set_xlabel('IPTW Weight (ATE)')\n",
    "axes[0].set_ylabel('Frequency')\n",
    "axes[0].set_title('Distribution of Stabilized IPTW Weights')\n",
    "axes[0].legend()\n",
    "axes[0].grid(alpha=0.3)\n",
    "\n",
    "axes[1].hist(df.loc[df['treatment_high']==1, 'weight_ate'], bins=20, alpha=0.6, label='Treated', color='green')\n",
    "axes[1].hist(df.loc[df['treatment_high']==0, 'weight_ate'], bins=20, alpha=0.6, label='Control', color='orange')\n",
    "axes[1].set_xlabel('IPTW Weight (ATE)')\n",
    "axes[1].set_ylabel('Frequency')\n",
    "axes[1].set_title('Weight Distribution by Treatment Group')\n",
    "axes[1].legend()\n",
    "axes[1].grid(alpha=0.3)\n",
    "\n",
    "plt.tight_layout()\n",
    "plt.savefig('../outputs/ps_weights_distribution.png', dpi=300, bbox_inches='tight')\n",
    "plt.show()\n",
    "print('Saved: outputs/ps_weights_distribution.png')"
   ]
  },
  {
   "cell_type": "code",
   "execution_count": null,
   "id": "868b3b89",
   "metadata": {},
   "outputs": [],
   "source": [
    "# Plot 2: Love plot (balance before/after)\n",
    "fig, ax = plt.subplots(figsize=(10, max(6, len(balance_df)*0.25)))\n",
    "\n",
    "y_pos = np.arange(len(balance_df))\n",
    "ax.scatter(balance_df['smd_before'], y_pos, color='red', s=100, label='Before Weighting', alpha=0.7, marker='o')\n",
    "ax.scatter(balance_df['smd_after'], y_pos, color='green', s=100, label='After Weighting', alpha=0.7, marker='s')\n",
    "\n",
    "for i, (before, after) in enumerate(zip(balance_df['smd_before'], balance_df['smd_after'])):\n",
    "    ax.plot([before, after], [i, i], 'k-', alpha=0.3, linewidth=1)\n",
    "\n",
    "ax.axvline(-0.1, color='gray', linestyle='--', linewidth=1, alpha=0.5, label='Balance threshold (|SMD|=0.1)')\n",
    "ax.axvline(0.1, color='gray', linestyle='--', linewidth=1, alpha=0.5)\n",
    "ax.axvline(0, color='black', linestyle='-', linewidth=0.5, alpha=0.5)\n",
    "\n",
    "ax.set_yticks(y_pos)\n",
    "ax.set_yticklabels(balance_df['feature'])\n",
    "ax.set_xlabel('Standardized Mean Difference (SMD)')\n",
    "ax.set_title('Covariate Balance: Love Plot (Before vs. After Weighting)')\n",
    "ax.legend(loc='best')\n",
    "ax.grid(alpha=0.3, axis='x')\n",
    "\n",
    "plt.tight_layout()\n",
    "plt.savefig('../outputs/ps_love_plot.png', dpi=300, bbox_inches='tight')\n",
    "plt.show()\n",
    "print('Saved: outputs/ps_love_plot.png')"
   ]
  },
  {
   "cell_type": "code",
   "execution_count": null,
   "id": "a3663738",
   "metadata": {},
   "outputs": [],
   "source": [
    "# Plot 3: Propensity score overlap\n",
    "fig, ax = plt.subplots(figsize=(10, 6))\n",
    "\n",
    "ps_treated = df.loc[df['treatment_high']==1, 'propensity_score']\n",
    "ps_control = df.loc[df['treatment_high']==0, 'propensity_score']\n",
    "\n",
    "ax.hist(ps_control, bins=30, alpha=0.6, label='Control', color='orange', density=True)\n",
    "ax.hist(ps_treated, bins=30, alpha=0.6, label='Treated', color='green', density=True)\n",
    "\n",
    "ax.set_xlabel('Propensity Score')\n",
    "ax.set_ylabel('Density')\n",
    "ax.set_title('Propensity Score Distribution by Treatment Group')\n",
    "ax.legend()\n",
    "ax.grid(alpha=0.3)\n",
    "\n",
    "plt.tight_layout()\n",
    "plt.savefig('../outputs/ps_overlap.png', dpi=300, bbox_inches='tight')\n",
    "plt.show()\n",
    "print('Saved: outputs/ps_overlap.png')"
   ]
  },
  {
   "cell_type": "markdown",
   "id": "8fcdcdd9",
   "metadata": {},
   "source": [
    "## Save and Export Results"
   ]
  },
  {
   "cell_type": "code",
   "execution_count": null,
   "id": "e1973ff6",
   "metadata": {},
   "outputs": [],
   "source": [
    "# Compile summary results\n",
    "summary_results = {\n",
    "    'source': source,\n",
    "    'n_total': int(len(df)),\n",
    "    'n_treated': int((df['treatment_high']==1).sum()),\n",
    "    'n_control': int((df['treatment_high']==0).sum()),\n",
    "    'prop_treated': float(df['treatment_high'].mean()),\n",
    "    'duration_median': float(duration_median),\n",
    "    'ATE_coefficient': float(ate_coef),\n",
    "    'ATE_se': float(ate_se),\n",
    "    'ATE_ci_lower': float(ate_ci[0]),\n",
    "    'ATE_ci_upper': float(ate_ci[1]),\n",
    "    'ATE_weighted_diff': float(ate_w),\n",
    "    'ATT_coefficient': float(att_coef),\n",
    "    'ATT_se': float(att_se),\n",
    "    'ATT_ci_lower': float(att_ci[0]),\n",
    "    'ATT_ci_upper': float(att_ci[1]),\n",
    "    'covs_in_balance': int((np.abs(balance_df['smd_after']) < 0.1).sum()),\n",
    "    'n_covariates': int(len(balance_df))\n",
    "}\n",
    "\n",
    "print('\\n=== PROPENSITY SCORE WEIGHTING SUMMARY ===')\n",
    "print(f\"Data source: {summary_results['source']}\")\n",
    "print(f\"Sample size: {summary_results['n_total']} (Treated: {summary_results['n_treated']}, Control: {summary_results['n_control']})\")\n",
    "print(f\"Duration median: {summary_results['duration_median']:.1f} days\")\n",
    "print(f\"\\nATE (treatment effect on all units):\")\n",
    "print(f\"  Coef: {summary_results['ATE_coefficient']:.4f}\")\n",
    "print(f\"  SE: {summary_results['ATE_se']:.4f}\")\n",
    "print(f\"  95% CI: [{summary_results['ATE_ci_lower']:.4f}, {summary_results['ATE_ci_upper']:.4f}]\")\n",
    "print(f\"\\nATT (treatment effect on treated):\")\n",
    "print(f\"  Coef: {summary_results['ATT_coefficient']:.4f}\")\n",
    "print(f\"  SE: {summary_results['ATT_se']:.4f}\")\n",
    "print(f\"  95% CI: [{summary_results['ATT_ci_lower']:.4f}, {summary_results['ATT_ci_upper']:.4f}]\")\n",
    "print(f\"\\nBalance: {summary_results['covs_in_balance']}/{summary_results['n_covariates']} covariates with |SMD| < 0.1\")\n",
    "\n",
    "# Export to CSV\n",
    "pd.DataFrame([summary_results]).to_csv('../outputs/ps_weighting_summary.csv', index=False)\n",
    "balance_df.to_csv('../outputs/ps_weighting_balance.csv', index=False)\n",
    "df[['propensity_score', 'weight_ate', 'weight_att', 'treatment_high']].to_csv('../outputs/ps_weighting_scores_weights.csv', index=False)\n",
    "\n",
    "print('\\nExported files:')\n",
    "print('  - outputs/ps_weighting_summary.csv')\n",
    "print('  - outputs/ps_weighting_balance.csv')\n",
    "print('  - outputs/ps_weighting_scores_weights.csv')\n",
    "print('  - outputs/ps_weights_distribution.png')\n",
    "print('  - outputs/ps_love_plot.png')\n",
    "print('  - outputs/ps_overlap.png')"
   ]
  },
  {
   "cell_type": "markdown",
   "id": "2534b70a",
   "metadata": {},
   "source": [
    "## Key Objects for Further Use\n",
    "\n",
    "The following objects are available for interactive inspection:\n",
    "- `df`: Full dataframe with propensity scores and weights\n",
    "- `balance_df`: Balance diagnostics table\n",
    "- `wls_res`: ATE weighted regression results (statsmodels)\n",
    "- `wls_res_att`: ATT weighted regression results (statsmodels)\n",
    "- `ps_model`: Fitted logistic regression model\n",
    "- `summary_results`: Dictionary of all key estimates and statistics"
   ]
  }
 ],
 "metadata": {
  "kernelspec": {
   "display_name": "venv (3.11.13)",
   "language": "python",
   "name": "python3"
  },
  "language_info": {
   "codemirror_mode": {
    "name": "ipython",
    "version": 3
   },
   "file_extension": ".py",
   "mimetype": "text/x-python",
   "name": "python",
   "nbconvert_exporter": "python",
   "pygments_lexer": "ipython3",
   "version": "3.11.13"
  }
 },
 "nbformat": 4,
 "nbformat_minor": 5
}
